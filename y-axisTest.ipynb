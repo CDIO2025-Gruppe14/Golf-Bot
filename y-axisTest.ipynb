{
 "cells": [
  {
   "cell_type": "code",
   "execution_count": null,
   "id": "107ac09c",
   "metadata": {
    "vscode": {
     "languageId": "plaintext"
    }
   },
   "outputs": [],
   "source": [
    "import serial\n",
    "import time\n",
    "\n",
    "\n",
    "\n",
    "//\n",
    "arduino = serial.Serial(port='/dev/ttyUSB0', baudrate=9600, timeout=1)\n",
    "time.sleep(2)\n",
    "\n",
    "def send_command(cmd):\n",
    "    print(f\"Sender: {cmd}\")\n",
    "    arduino.write((cmd + '\\n').encode('utf-8'))\n",
    "    time.sleep(0.1)\n",
    "\n",
    "def run_example():\n",
    "    send_command(\"SPEED 1000\")   # Lavere hastighed\n",
    "    send_command(\"RIGHT\")\n",
    "    time.sleep(2)\n",
    "    \n",
    "    send_command(\"SPEED 300\")    # Hurtigere hastighed\n",
    "    send_command(\"LEFT\")\n",
    "    time.sleep(2)\n",
    "\n",
    "    send_command(\"SPEED 500\")\n",
    "    send_command(\"STEP 800\")     # Bruger sidste hastighed\n",
    "\n",
    "if __name__ == \"__main__\":\n",
    "    run_example()\n",
    "    arduino.close()\n"
   ]
  }
 ],
 "metadata": {
  "language_info": {
   "name": "python"
  }
 },
 "nbformat": 4,
 "nbformat_minor": 5
}
