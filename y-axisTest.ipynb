{
 "cells": [
  {
   "cell_type": "code",
   "execution_count": null,
   "id": "107ac09c",
   "metadata": {},
   "outputs": [
    {
     "name": "stdout",
     "output_type": "stream",
     "text": [
      "Sender: SPEED 20000\n",
      "Sender: STEP 1000\n",
      "Sender: LEFT\n"
     ]
    }
   ],
   "source": [
    "import serial\n",
    "import time\n",
    "\n",
    "\n",
    "\n",
    "arduino = serial.Serial(port=\"COM3\", baudrate=115200, timeout=1)\n",
    "time.sleep(2)\n",
    "\n",
    "def send_command(cmd):\n",
    "    print(f\"Sender: {cmd}\")\n",
    "    arduino.write((cmd + '\\n').encode('utf-8'))\n",
    "    time.sleep(0.1)\n",
    "\n",
    "def run_example():\n",
    "    send_command(\"STEP 1000\")     # Sætter steps\n",
    "    send_command(\"SPEED 20000\")   # Lavere hastighed\n",
    "\n",
    "    time.sleep(2)\n",
    "\n",
    "\n",
    "if __name__ == \"__main__\":\n",
    "    run_example()\n",
    "    arduino.close()\n"
   ]
  }
 ],
 "metadata": {
  "kernelspec": {
   "display_name": "course02502",
   "language": "python",
   "name": "python3"
  },
  "language_info": {
   "codemirror_mode": {
    "name": "ipython",
    "version": 3
   },
   "file_extension": ".py",
   "mimetype": "text/x-python",
   "name": "python",
   "nbconvert_exporter": "python",
   "pygments_lexer": "ipython3",
   "version": "3.9.21"
  }
 },
 "nbformat": 4,
 "nbformat_minor": 5
}
