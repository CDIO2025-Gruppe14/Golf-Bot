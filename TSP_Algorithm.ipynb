{
 "cells": [
  {
   "cell_type": "markdown",
   "metadata": {},
   "source": [
    "# TSP algorithm for fast route planning"
   ]
  },
  {
   "cell_type": "code",
   "execution_count": null,
   "metadata": {},
   "outputs": [],
   "source": [
    "import numpy as np\n",
    "import matplotlib.pyplot as plt\n",
    "from scipy.spatial import distance_matrix\n",
    "from itertools import permutations\n",
    "\n",
    "# Banens størrelse\n",
    "WIDTH, HEIGHT = 180, 120\n",
    "NUM_BALLS = 11\n",
    "\n",
    "# Generer tilfældige koordinater for boldene\n",
    "np.random.seed(42)  # For reproducerbarhed\n",
    "balls = np.random.rand(NUM_BALLS, 2) * [WIDTH, HEIGHT]\n",
    "\n",
    "# Beregn afstandsmatrix\n",
    "dist_matrix = distance_matrix(balls, balls)\n",
    "\n",
    "# Brute-force løsning til TSP (kun for små N)\n",
    "def brute_force_tsp(dist_matrix):\n",
    "    n = len(dist_matrix)\n",
    "    min_path = None\n",
    "    min_cost = float('inf')\n",
    "    for perm in permutations(range(n)):\n",
    "        cost = sum(dist_matrix[perm[i], perm[i+1]] for i in range(n-1))\n",
    "        if cost < min_cost:\n",
    "            min_cost = cost\n",
    "            min_path = perm\n",
    "    return min_path, min_cost\n",
    "\n",
    "# Find den korteste rute\n",
    "best_route, best_cost = brute_force_tsp(dist_matrix)\n",
    "\n",
    "# Plot banen og ruten\n",
    "plt.figure(figsize=(9, 6))\n",
    "plt.scatter(balls[:, 0], balls[:, 1], c='red', label='Balls')\n",
    "\n",
    "# Tegn ruten\n",
    "for i in range(len(best_route) - 1):\n",
    "    start, end = best_route[i], best_route[i+1]\n",
    "    plt.plot([balls[start, 0], balls[end, 0]], [balls[start, 1], balls[end, 1]], 'b-')\n",
    "\n",
    "plt.title(f'TSP Route for Ball Pickup (Cost: {best_cost:.2f})')\n",
    "plt.xlim(0, WIDTH)\n",
    "plt.ylim(0, HEIGHT)\n",
    "plt.legend()\n",
    "plt.show()"
   ]
  }
 ],
 "metadata": {
  "kernelspec": {
   "display_name": "base",
   "language": "python",
   "name": "python3"
  },
  "language_info": {
   "codemirror_mode": {
    "name": "ipython",
    "version": 3
   },
   "file_extension": ".py",
   "mimetype": "text/x-python",
   "name": "python",
   "nbconvert_exporter": "python",
   "pygments_lexer": "ipython3",
   "version": "3.11.11"
  }
 },
 "nbformat": 4,
 "nbformat_minor": 2
}
